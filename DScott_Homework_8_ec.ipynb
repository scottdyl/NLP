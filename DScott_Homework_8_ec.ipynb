{
 "cells": [
  {
   "cell_type": "markdown",
   "metadata": {},
   "source": [
    "Perform a vocabulary-based sentiment analysis of the movie reviews you used in homework 5 and homework 7, by doing the following:\n",
    "1.\tIn Python, load one of the sentiment vocabularies referenced in the textbook, and run the sentiment analyzer as explained in the corresponding reference. Add words to the sentiment vocabulary, if you think you need to, to better fit your particular text collection.\n",
    "\n",
    "2.\tFor each of the clusters you created in homework 7, compute the average, median, high, and low sentiment scores for each cluster. Explain whether you think this reveals anything interesting about the clusters.\n",
    "\n",
    "3.\tFor extra credit, analyze sentiment of chunks as follows:\n",
    "a.\tTake the chunks from homework 5, and in Python, run each chunk individually through your sentiment analyzer that you used in question 1. If the chunk registers a nonneutral sentiment, save it in a tabular format (the chunk, the sentiment score).\n",
    "b.\tNow sort the table twice, once to show the highest negative-sentiment-scoring chunks at the top and again to show the highest positive-sentiment-scoring chunks at the top. Examine the upper portions of both sorted lists, to identify any trends, and explain what you see. \n",
    "Submit all of your inputs and outputs and your code for this assignment, along with a brief written explanation of your findings. \n"
   ]
  },
  {
   "cell_type": "code",
   "execution_count": 14,
   "metadata": {},
   "outputs": [],
   "source": [
    "import nltk \n",
    "import re\n",
    "import matplotlib.pyplot as plt\n",
    "import seaborn as sns\n",
    "from sklearn.cluster import KMeans\n",
    "from nltk.stem.wordnet import WordNetLemmatizer\n",
    "from nltk.corpus import stopwords\n",
    "import pandas as pd\n",
    "from bs4 import BeautifulSoup\n",
    "from requests import get\n",
    "import selenium\n",
    "from selenium import webdriver \n",
    "import requests\n",
    "import json\n",
    "from sklearn.feature_extraction.text import CountVectorizer\n",
    "from sklearn.feature_extraction.text import TfidfVectorizer\n",
    "from sklearn.metrics.pairwise import cosine_similarity\n",
    "from scipy.cluster.hierarchy import ward, dendrogram\n",
    "from statistics import mean, median\n",
    "import nltk\n",
    "nltk.download('vader_lexicon')\n",
    "from nltk.sentiment import SentimentIntensityAnalyzer\n"
   ]
  },
  {
   "cell_type": "code",
   "execution_count": 15,
   "metadata": {},
   "outputs": [],
   "source": [
    "url = 'https://www.imdb.com/list/ls095374765/?sort=moviemeter,asc&st_dt=&mode=grid&page=1&ref_=ttls_vw_smp&genres=Thriller'\n",
    "response = get(url)\n",
    "html_soup = BeautifulSoup(response.text, 'html.parser')\n",
    "\n",
    "movieReview = []\n",
    "reviewTitle = []\n",
    "movieTitle = []\n",
    "stop_words = set(stopwords.words(\"english\"))"
   ]
  },
  {
   "cell_type": "code",
   "execution_count": 16,
   "metadata": {},
   "outputs": [],
   "source": [
    "def list_Of_Reviews(website):\n",
    "    soup = BeautifulSoup(website, 'html.parser')\n",
    "    # print(soup)\n",
    "    f = soup.find_all('div', class_='ipl-icon ipl-star-icon')\n",
    "    f = soup.find_all('span', class_=\"rating-other-user-rating\")#.find('span').text\n",
    "\n",
    "    idxPos = -1\n",
    "    idxNeg = -1\n",
    "\n",
    "    for idx, i in enumerate(f):\n",
    "        sp = (f[idx].text.split('/'))\n",
    "        sp = int(sp[0][-2:])\n",
    "        if sp > 8:\n",
    "            idxPos = idx\n",
    "        elif sp < 4:\n",
    "            idxNeg = idx\n",
    "    return([idxNeg,idxPos])"
   ]
  },
  {
   "cell_type": "code",
   "execution_count": 17,
   "metadata": {},
   "outputs": [],
   "source": [
    "for div in html_soup.findAll('div', attrs={'class':'title'}):\n",
    "    if len(movieReview) > 100:\n",
    "        break\n",
    "    else:\n",
    "        url = 'https://www.imdb.com' + div.find('a')['href'] \n",
    "        url = url + 'reviews'\n",
    "        response = get(url)\n",
    "        html_soup = BeautifulSoup(response.text, 'html.parser')\n",
    "        review_containers = html_soup.find_all('div', class_='text show-more__control')\n",
    "        title_containers = html_soup.find_all( class_='title')\n",
    "        \n",
    "        reviewIndex = list_Of_Reviews(response.content)\n",
    "        reviewList = []\n",
    "\n",
    "        if reviewIndex[0] == -1 or reviewIndex[1] == -1:\n",
    "            pass\n",
    "        else:\n",
    "            reviewList.append(review_containers[reviewIndex[0]].text)\n",
    "            reviewList.append(review_containers[reviewIndex[1]].text)\n",
    "            reviewTitle.append(title_containers[reviewIndex[0]].string)\n",
    "            reviewTitle.append(title_containers[reviewIndex[1]].string)\n",
    "            movieTitle.append(div.string)\n",
    "            movieTitle.append(div.string)\n",
    "            count =+ 2\n",
    "            for i in reviewList:\n",
    "                review = i.lower()\n",
    "                #remove punctuation\n",
    "                review = re.sub('[^a-zA-Z]', ' ', review)\n",
    "                \n",
    "                #remove tags\n",
    "                review = re.sub(\"&lt;/?.*?&gt;\",\" &lt;&gt; \",review)\n",
    "\n",
    "                #remove special characters and digits\n",
    "                review = re.sub(\"(\\\\d|\\\\W)+\",\" \",review)\n",
    "\n",
    "                split_text = review.split()\n",
    "                \n",
    "                #Lemmatisation\n",
    "                lem = WordNetLemmatizer()\n",
    "                split_text = [lem.lemmatize(word) for word in split_text if not word in stop_words and len(word) >2] \n",
    "                split_text = \" \".join(split_text)\n",
    "                movieReview.append(split_text)"
   ]
  },
  {
   "cell_type": "code",
   "execution_count": 18,
   "metadata": {},
   "outputs": [],
   "source": [
    "#I am going to use TfidfVectorizer this time\n",
    "vectorizer = TfidfVectorizer(stop_words={'english'})\n",
    "movieList_v = vectorizer.fit_transform(movieReview)"
   ]
  },
  {
   "cell_type": "code",
   "execution_count": 19,
   "metadata": {},
   "outputs": [
    {
     "data": {
      "image/png": "[encoded data removed]",
      "text/plain": [
       "<Figure size 432x288 with 1 Axes>"
      ]
     },
     "metadata": {
      "needs_background": "light"
     },
     "output_type": "display_data"
    }
   ],
   "source": [
    "import matplotlib.pyplot as plt\n",
    "from sklearn.cluster import KMeans\n",
    "\n",
    "Sum_of_squared_distances = []\n",
    "X = movieList_v\n",
    "K = range(2,15)\n",
    "for k in K:\n",
    "    km = KMeans(n_clusters=k, max_iter=200, n_init=10)\n",
    "    km = km.fit(X)\n",
    "    Sum_of_squared_distances.append(km.inertia_)\n",
    "    \n",
    "plt.plot(K, Sum_of_squared_distances, 'bx-')\n",
    "plt.xlabel('K')\n",
    "plt.ylabel('Distance')\n",
    "plt.title('Best K value')\n",
    "plt.show()"
   ]
  },
  {
   "cell_type": "code",
   "execution_count": 20,
   "metadata": {},
   "outputs": [
    {
     "name": "stdout",
     "output_type": "stream",
     "text": [
      "                         Movie Title  Cluster\n",
      "17                          WarGames        0\n",
      "78                        Nighthawks        0\n",
      "54        The Taking of Pelham 1 2 3        0\n",
      "74                Surviving the Game        0\n",
      "42               The Next Three Days        0\n",
      "..                               ...      ...\n",
      "92  Darkman II: The Return of Durant        7\n",
      "93  Darkman II: The Return of Durant        7\n",
      "50                         RoboCop 3        7\n",
      "64                       The Hitcher        7\n",
      "79                        Nighthawks        7\n",
      "\n",
      "[100 rows x 2 columns]\n"
     ]
    }
   ],
   "source": [
    "k = 8\n",
    "model = KMeans(n_clusters=k, max_iter=200, n_init=10, tol = 0.001)\n",
    "mod_8 = model.fit(X)\n",
    "labels=model.labels_\n",
    "\n",
    "review_clusters = pd.DataFrame(list(zip(movieTitle, labels)),columns=['Movie Title','Cluster'])\n",
    "print(review_clusters.sort_values(by=['Cluster']))"
   ]
  },
  {
   "cell_type": "code",
   "execution_count": 21,
   "metadata": {},
   "outputs": [
    {
     "name": "stdout",
     "output_type": "stream",
     "text": [
      "Cluster 0: movie, also, action, game, play, really, character, stupid, computer\n",
      "Cluster 1: movie, film, scene, one, action, make, time, first, ever\n",
      "Cluster 2: batman, segment, dark, animated, movie, knight, voice, film, part\n",
      "Cluster 3: girl, cletus, get, terrorist, old, ferris, eddie, phone, younger\n",
      "Cluster 4: washington, denzel, movie, day, performance, good, john, oscar, credit\n",
      "Cluster 5: zorro, good, movie, identity, elena, zeta, bandaras, fashioned, hopkins\n",
      "Cluster 6: dream, woman, wonder, western, picture, people, many, villain, opinion\n",
      "Cluster 7: robocop, film, first, darkman, action, neeson, nothing, sequel, played\n"
     ]
    }
   ],
   "source": [
    "common_words = mod_8.cluster_centers_.argsort()[:,-1:-10:-1]\n",
    "\n",
    "word_features = vectorizer.get_feature_names_out()\n",
    "\n",
    "for cluster_group, centroid in enumerate(common_words):\n",
    "    print(f\"Cluster {cluster_group}: {', '.join(word_features[word] for word in centroid)}\")"
   ]
  },
  {
   "cell_type": "code",
   "execution_count": 27,
   "metadata": {},
   "outputs": [],
   "source": [
    "result={'cluster':labels,'Movie Reviews':movieReview}\n",
    "result=pd.DataFrame(result)"
   ]
  },
  {
   "cell_type": "code",
   "execution_count": 22,
   "metadata": {},
   "outputs": [
    {
     "name": "stderr",
     "output_type": "stream",
     "text": [
      "[nltk_data] Downloading package vader_lexicon to\n",
      "[nltk_data]     C:\\Users\\drsco\\AppData\\Roaming\\nltk_data...\n",
      "[nltk_data]   Package vader_lexicon is already up-to-date!\n"
     ]
    },
    {
     "data": {
      "text/plain": [
       "True"
      ]
     },
     "execution_count": 22,
     "metadata": {},
     "output_type": "execute_result"
    }
   ],
   "source": [
    "nltk.download('vader_lexicon')"
   ]
  },
  {
   "cell_type": "code",
   "execution_count": 23,
   "metadata": {},
   "outputs": [],
   "source": [
    "\n",
    "SentiAnalyzer = SentimentIntensityAnalyzer()\n",
    "\n",
    "stopWords = stopwords.words(\"english\")\n",
    "stopWords.extend([w.lower() for w in nltk.corpus.names.words()])"
   ]
  },
  {
   "cell_type": "code",
   "execution_count": 24,
   "metadata": {},
   "outputs": [],
   "source": [
    "\n",
    "\n",
    "def polarity_score(review):\n",
    "    scores = [\n",
    "      SentiAnalyzer.polarity_scores(sentence)[\"compound\"]\n",
    "        for sentence in [w for w in nltk.sent_tokenize(review) if not w in stopWords]\n",
    "    ]\n",
    "    return mean(scores)"
   ]
  },
  {
   "cell_type": "code",
   "execution_count": 26,
   "metadata": {},
   "outputs": [
    {
     "data": {
      "text/plain": [
       "0.4767"
      ]
     },
     "execution_count": 26,
     "metadata": {},
     "output_type": "execute_result"
    }
   ],
   "source": [
    "#let us use some country music songs to help us determine polarity score\n",
    "polarity_score('I like my beer ice cold but I will drink them warm')"
   ]
  },
  {
   "cell_type": "code",
   "execution_count": 28,
   "metadata": {},
   "outputs": [
    {
     "name": "stdout",
     "output_type": "stream",
     "text": [
      "    cluster                                      Movie Reviews   Score\n",
      "0         1  right praise hype movie joker director todd ph...  0.9861\n",
      "1         3  section new york new jersey standing gotham ci...  0.8898\n",
      "2         4  movie bad like frankly fun tom hardy suit role...  0.9825\n",
      "3         3  thoroughly disappointed venom let carnage botc... -0.9937\n",
      "4         3  movie begin see liam neeson matt scudder polic...  0.6240\n",
      "..      ...                                                ...     ...\n",
      "95        3  nothing brag like twisted bloody story reached... -0.9654\n",
      "96        3  good idea bad feeling could much said geared y...  0.6369\n",
      "97        1  amazed technology intelligence meaning scienti...  0.9643\n",
      "98        1  suppose phantom might passable entertainment s...  0.8701\n",
      "99        3  phantom solidly entertaining unspectacular sub...  0.9860\n",
      "\n",
      "[100 rows x 3 columns]\n"
     ]
    }
   ],
   "source": [
    "polarityScore = []\n",
    "for review in movieReview:\n",
    "    score = polarity_score(review)\n",
    "    polarityScore.append(score)\n",
    "\n",
    "result['Score'] = polarityScore\n",
    "print(result)"
   ]
  },
  {
   "cell_type": "code",
   "execution_count": 29,
   "metadata": {},
   "outputs": [
    {
     "name": "stdout",
     "output_type": "stream",
     "text": [
      "            Score                         \n",
      "             mean   median     min     max\n",
      "cluster                                   \n",
      "0        0.333708  0.88000 -0.9705  0.9926\n",
      "1        0.534003  0.89480 -0.9906  0.9872\n",
      "2        0.197192  0.81305 -0.9852  0.9838\n",
      "3       -0.073750 -0.08025 -0.9937  0.9860\n",
      "4        0.550892  0.96610 -0.9758  0.9889\n",
      "5        0.083050  0.23690 -0.9863  0.9948\n",
      "6        0.438387  0.85170 -0.9590  0.9946\n",
      "7        0.143400  0.64860 -0.9926  0.9978\n"
     ]
    }
   ],
   "source": [
    "cluster_Scores = result[['cluster','Score']]\n",
    "cluster_Group_Scores = cluster_Scores.groupby(\"cluster\").agg({'Score': ['mean', 'median', 'min', 'max']})\n",
    "print(cluster_Group_Scores)"
   ]
  },
  {
   "cell_type": "markdown",
   "metadata": {},
   "source": [
    "### Clusters\n",
    "\n",
    "In total we can see that we have 8 clusters. looking at them we have 1 that had a negitive mean score with two that I would consider neutral. Overall most of them seem to be positive besides cluser 4.\\\n",
    "However we also see that the min and max of these clusers are very polarising since some are very high (almost 1) and every low (almost -1). This shows that clustering on this data set in this way may not be the best solution."
   ]
  }
 ],
 "metadata": {
  "interpreter": {
   "hash": "7e3bd45579ff18360467f46d010c615d34b920f554fd865a8e9da3c1abab64bd"
  },
  "kernelspec": {
   "display_name": "Python 3.10.1 64-bit",
   "language": "python",
   "name": "python3"
  },
  "language_info": {
   "codemirror_mode": {
    "name": "ipython",
    "version": 3
   },
   "file_extension": ".py",
   "mimetype": "text/x-python",
   "name": "python",
   "nbconvert_exporter": "python",
   "pygments_lexer": "ipython3",
   "version": "3.10.1"
  },
  "orig_nbformat": 4
 },
 "nbformat": 4,
 "nbformat_minor": 2
}
